{
 "cells": [
  {
   "cell_type": "markdown",
   "id": "93f9a0ae",
   "metadata": {},
   "source": [
    " # Exploring Topological Data Analysis for Brain Network Connectivity\n",
    "___\n",
    "\n",
    "**Contact source**: `drewwilimitis@gmail.com`\n",
    "<br>\n",
    "___\n",
    "\n",
    " ## References and Sources:\n",
    " \n",
    " *sources on TDA*\n",
    "\n",
    "Data Source for ADHD-200 Measurements: \n",
    "- https://fcon_1000.projects.nitrc.org/indi/adhd200/\n",
    "\n",
    "GitHub Repositories I found helpful: \n",
    "\n",
    " ## Overview of Experiment \n",
    "\n",
    "- We explore fMRI brain connectivity patterns of healthy controls and ADHD patients that were provided by multiple healthcare sites\n",
    "\n",
    "- We use TDA to ...\n",
    "\n",
    "**Overview of Current Datasets and Directories**:<br>\n",
    "\n",
    "- We have four total folders labels as sites: KKL, NYU, Neuro, Peking \n",
    "<br>\n",
    "- Each site's folder has two files (.mat files): one for ADHD group, one for healthy controls (20 subjects in each group)\n",
    "<br>\n",
    "- Each individual has a (190, 190) connectivity matrix based on correlation in activity patterns between 190 brain regions\n",
    "\n",
    "**We attempt the following analyses:** <br>\n",
    "...\n",
    "\n",
    " ## Mathematical Background/Overview\n",
    " ___\n",
    " \n",
    " ### header"
   ]
  },
  {
   "cell_type": "markdown",
   "id": "de95a94f",
   "metadata": {},
   "source": [
    "## Import libraries and load data"
   ]
  },
  {
   "cell_type": "code",
   "execution_count": null,
   "id": "b5971f36",
   "metadata": {},
   "outputs": [],
   "source": [
    "import numpy as np\n",
    "import pandas as pd\n",
    "%matplotlib inline\n",
    "import matplotlib.pyplot as plt\n",
    "plt.style.use('seaborn')\n",
    "import seaborn as sns\n",
    "import time\n",
    "import sys\n",
    "import os\n",
    "import scipy.io\n",
    "\n",
    "# import modules within repositoryhyperbolic_kmeans\n",
    "sys.path.append('/Users/drew/Desktop/hyperbolic-learning/hyperbolic_kmeans')  # path to hkmeans folder\n",
    "sys.path.append('/Users/drew/Desktop/hyperbolic-learning/utils') # path to utils folder\n",
    "from utils import *\n",
    "from hkmeans import HyperbolicKMeans, plot_clusters\n",
    "\n",
    "# ignore warnings\n",
    "import warnings\n",
    "warnings.filterwarnings('ignore');\n",
    "\n",
    "# display multiple outputs within a cell\n",
    "from IPython.core.interactiveshell import InteractiveShell\n",
    "InteractiveShell.ast_node_interactivity = \"all\";"
   ]
  },
  {
   "cell_type": "code",
   "execution_count": null,
   "id": "165bc848",
   "metadata": {},
   "outputs": [],
   "source": [
    "# initialize lists for mat files, site names, and dictionary with all connectivity data\n",
    "mat_files = []\n",
    "conn_dict = {}\n",
    "sites = []\n",
    "\n",
    "# iterate through site folders and load data files\n",
    "for site in os.listdir('../../data/ADHD-200/sites/'):\n",
    "    if '.DS' in site:\n",
    "        continue\n",
    "    print('Loading data for site: {}'.format(str(site)))\n",
    "    sites.append(site)\n",
    "    subdir = '../../data/ADHD-200/sites/' + str(site) + '/'\n",
    "    for file in os.listdir(subdir):\n",
    "        fpath = subdir + file\n",
    "        mat = scipy.io.loadmat(fpath)\n",
    "        group = list(mat.keys())[-1]\n",
    "        data = mat[group]\n",
    "        mat_files.append(mat)\n",
    "        # reformat/standardize naming of sites and healthy/control groups \n",
    "        if 'Peking' in group:\n",
    "            group = group.split('_')[0] + '_' + group.split('_')[-1]\n",
    "        if 'KK_' in group:\n",
    "            group = group.replace('KK', 'KKL')\n",
    "        conn_dict[group] = np.array(data)"
   ]
  },
  {
   "cell_type": "code",
   "execution_count": null,
   "id": "fecf08a2",
   "metadata": {},
   "outputs": [],
   "source": [
    "# explore sites and dictionary with data files\n",
    "groups = conn_dict.keys()\n",
    "print('Dimensions of group connectivity data matrices:')\n",
    "for group in groups:\n",
    "    print(group + ': ', np.shape(conn_dict[group]))\n",
    "\n",
    "# new site names\n",
    "sites = np.unique([x.split('_')[0] for x in groups])\n",
    "print('\\nNew site namings:')\n",
    "print(sites)"
   ]
  }
 ],
 "metadata": {
  "kernelspec": {
   "display_name": "Python 3 (ipykernel)",
   "language": "python",
   "name": "python3"
  },
  "language_info": {
   "codemirror_mode": {
    "name": "ipython",
    "version": 3
   },
   "file_extension": ".py",
   "mimetype": "text/x-python",
   "name": "python",
   "nbconvert_exporter": "python",
   "pygments_lexer": "ipython3",
   "version": "3.8.3"
  },
  "latex_envs": {
   "LaTeX_envs_menu_present": true,
   "autoclose": false,
   "autocomplete": true,
   "bibliofile": "biblio.bib",
   "cite_by": "apalike",
   "current_citInitial": 1,
   "eqLabelWithNumbers": true,
   "eqNumInitial": 1,
   "hotkeys": {
    "equation": "Ctrl-E",
    "itemize": "Ctrl-I"
   },
   "labels_anchors": false,
   "latex_user_defs": false,
   "report_style_numbering": false,
   "user_envs_cfg": false
  }
 },
 "nbformat": 4,
 "nbformat_minor": 5
}
